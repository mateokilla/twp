{
  "nbformat": 4,
  "nbformat_minor": 0,
  "metadata": {
    "colab": {
      "provenance": [],
      "authorship_tag": "ABX9TyPq00ojPazwQM+P16tSonSY",
      "include_colab_link": true
    },
    "kernelspec": {
      "name": "python3",
      "display_name": "Python 3"
    },
    "language_info": {
      "name": "python"
    }
  },
  "cells": [
    {
      "cell_type": "markdown",
      "metadata": {
        "id": "view-in-github",
        "colab_type": "text"
      },
      "source": [
        "<a href=\"https://colab.research.google.com/github/mateokilla/twp/blob/main/USD.ipynb\" target=\"_parent\"><img src=\"https://colab.research.google.com/assets/colab-badge.svg\" alt=\"Open In Colab\"/></a>"
      ]
    },
    {
      "cell_type": "code",
      "execution_count": 10,
      "metadata": {
        "colab": {
          "base_uri": "https://localhost:8080/"
        },
        "id": "YO_QtQqcsHuR",
        "outputId": "3558633a-10c2-40ab-cfc3-54595ffbff89"
      },
      "outputs": [
        {
          "output_type": "stream",
          "name": "stdout",
          "text": [
            "💵 Aktuális USD/HUF: 350.50\n",
            "📊 EMA21: 342.79 | SMA100: 354.51 | RSI14: 69.31\n",
            "🎯 Javasolt beszálló sáv: 341.08 – 344.51 HUF/USD\n",
            "⚖️ Jelzés: Semleges / Várakozás\n"
          ]
        }
      ],
      "source": [
        "import yfinance as yf\n",
        "import pandas as pd\n",
        "\n",
        "# USD/HUF adatok letöltése (180 nap)\n",
        "ticker = yf.Ticker(\"HUF=X\")\n",
        "df = ticker.history(period=\"180d\")\n",
        "\n",
        "# EMA21, SMA100, RSI14 számítás\n",
        "df['EMA21'] = df['Close'].ewm(span=21, adjust=False).mean()\n",
        "df['SMA100'] = df['Close'].rolling(window=100, min_periods=100).mean()\n",
        "\n",
        "delta = df['Close'].diff()\n",
        "gain = delta.clip(lower=0)\n",
        "loss = -delta.clip(upper=0)\n",
        "avg_gain = gain.rolling(window=14, min_periods=14).mean()\n",
        "avg_loss = loss.rolling(window=14, min_periods=14).mean()\n",
        "rs = avg_gain / avg_loss\n",
        "df['RSI14'] = 100 - (100 / (1 + rs))\n",
        "\n",
        "# Aktuális értékek\n",
        "current_price = df['Close'].iloc[-1]\n",
        "ema21 = df['EMA21'].iloc[-1]\n",
        "sma100 = df['SMA100'].iloc[-1]\n",
        "rsi14 = df['RSI14'].iloc[-1]\n",
        "\n",
        "print(f\"💵 Aktuális USD/HUF: {current_price:.2f}\")\n",
        "print(f\"📊 EMA21: {ema21:.2f} | SMA100: {sma100:.2f} | RSI14: {rsi14:.2f}\")\n",
        "\n",
        "# Egyszerű jelzés\n",
        "if current_price > ema21 and current_price > sma100 and rsi14 < 60:\n",
        "    print(\"✅ Jelzés: Kedvező vételi helyzet\")\n",
        "elif current_price < ema21 and current_price < sma100 and rsi14 > 40:\n",
        "    print(\"❌ Jelzés: Nem ideális vétel\")\n",
        "else:\n",
        "    print(\"⚖️ Jelzés: Semleges / Várakozás\")\n"
      ]
    }
  ]
}