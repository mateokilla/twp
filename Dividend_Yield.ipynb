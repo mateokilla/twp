{
  "nbformat": 4,
  "nbformat_minor": 0,
  "metadata": {
    "colab": {
      "provenance": [],
      "authorship_tag": "ABX9TyPxNoevteKNGo3SNlHhfUlV",
      "include_colab_link": true
    },
    "kernelspec": {
      "name": "python3",
      "display_name": "Python 3"
    },
    "language_info": {
      "name": "python"
    }
  },
  "cells": [
    {
      "cell_type": "markdown",
      "metadata": {
        "id": "view-in-github",
        "colab_type": "text"
      },
      "source": [
        "<a href=\"https://colab.research.google.com/github/mateokilla/twp/blob/main/Dividend_Yield.ipynb\" target=\"_parent\"><img src=\"https://colab.research.google.com/assets/colab-badge.svg\" alt=\"Open In Colab\"/></a>"
      ]
    },
    {
      "cell_type": "code",
      "execution_count": 1,
      "metadata": {
        "colab": {
          "base_uri": "https://localhost:8080/"
        },
        "id": "_RopsmM715vq",
        "outputId": "b9d7c806-5f85-45ed-dcbd-a8737c6c2dc0"
      },
      "outputs": [
        {
          "output_type": "stream",
          "name": "stdout",
          "text": [
            "Ticker |  DY (%) |   g (%) | TotalR (%) |       Ex-Div |    P/E | Fwd P/E |  ROE (%) | Payout (%) |    D/E |    Price |  52W Low | 52W High |   Target |   Diff $\n",
            "-----------------------------------------------------------------------------------------------------------------------------------------------------------------\n",
            "GAIN   |   6.81% |   6.07% |     12.88% |   2025-08-21 |   7.91 |   15.48 |   13.17% |     53.93% |  91.31 |   $14.09 |   $11.42 |   $15.34 |   $13.92 |   $-0.17\n",
            "CSWC   |  11.08% |  -6.27% |      4.81% |   2025-08-16 |  15.71 |    9.46 |    8.61% |    172.79% | 108.81 |   $23.09 |   $17.46 |   $26.00 |   $23.00 |   $-0.09\n",
            "STAG   |   4.17% |  -0.82% |      3.35% |   2025-07-31 |  26.62 |   40.24 |    7.15% |    111.47% |  86.58 |   $35.41 |   $28.61 |   $41.63 |   $38.82 |    $3.41\n",
            "O      |   5.63% |  -4.70% |      0.93% |   2025-07-30 |  52.05 |   36.01 |    2.51% |    287.59% |  69.96 |   $57.26 |   $50.71 |   $64.88 |   $62.03 |    $4.77\n",
            "MMM    |   1.92% |  57.12% |     59.04% |   2025-08-28 |  20.94 |   19.06 |   94.76% |     39.72% | 316.75 |  $150.59 |  $119.31 |  $164.15 |  $161.15 |   $10.56\n",
            "SO     |   3.11% |   3.79% |      6.90% |   2025-08-16 |  22.84 |   22.05 |   12.24% |     69.06% | 188.38 |   $95.24 |   $80.46 |   $96.44 |   $95.58 |    $0.34\n",
            "PFE    |   7.08% |  -1.94% |      5.14% |   2025-10-10 |  17.49 |    8.24 |    8.62% |    122.46% |  68.84 |   $24.14 |   $20.92 |   $31.32 |   $28.67 |    $4.53\n",
            "VZ     |   6.35% |   6.82% |     13.17% |   2025-10-09 |   9.95 |    9.04 |   18.45% |     63.02% | 167.39 |   $42.78 |   $37.59 |   $47.36 |   $48.74 |    $5.96\n",
            "T      |   4.05% |   4.22% |      8.27% |   2025-10-09 |  15.78 |   12.33 |   11.53% |     63.43% | 123.19 |   $27.62 |   $18.64 |   $29.19 |   $30.58 |    $2.97\n",
            "CVX    |   4.36% |   2.48% |      6.84% |   2025-08-20 |  17.76 |   14.07 |   10.08% |     75.43% |  19.78 |  $155.36 |  $132.04 |  $168.96 |  $164.57 |    $9.21\n"
          ]
        }
      ],
      "source": [
        "import yfinance as yf\n",
        "import pandas as pd\n",
        "\n",
        "def get_dividend_and_fundamentals(tickers):\n",
        "    results = {}\n",
        "\n",
        "    for ticker in tickers:\n",
        "        try:\n",
        "            tk = yf.Ticker(ticker)\n",
        "            info = tk.info\n",
        "\n",
        "            # Osztalékhozam\n",
        "            dy = info.get('dividendYield', None)\n",
        "\n",
        "            # Következő várható osztalék dátum becslés\n",
        "            dividends = tk.dividends\n",
        "            next_div = None\n",
        "            if not dividends.empty:\n",
        "                div_dates = dividends.index.sort_values()\n",
        "                last_div = div_dates[-1]\n",
        "                if len(div_dates) > 1:\n",
        "                    freq_days = (div_dates[-1] - div_dates[-2]).days\n",
        "                    next_div_est = last_div + pd.Timedelta(days=freq_days)\n",
        "                    next_div = next_div_est.strftime('%Y-%m-%d')\n",
        "\n",
        "            # Fundamentális mutatók\n",
        "            pe = info.get(\"trailingPE\")\n",
        "            forward_pe = info.get(\"forwardPE\")\n",
        "            roe = info.get(\"returnOnEquity\")\n",
        "            payout_ratio = info.get(\"payoutRatio\")\n",
        "            debt_equity = info.get(\"debtToEquity\")\n",
        "            target_price = info.get(\"targetMeanPrice\")\n",
        "\n",
        "            # Ár adatok\n",
        "            current_price = info.get(\"currentPrice\")\n",
        "            low_52w = info.get(\"fiftyTwoWeekLow\")\n",
        "            high_52w = info.get(\"fiftyTwoWeekHigh\")\n",
        "\n",
        "            # Célár differencia\n",
        "            diff_dollar = None\n",
        "            if target_price and current_price:\n",
        "                diff_dollar = target_price - current_price\n",
        "\n",
        "            # g számítás (Damodaran fenntartható növekedési ráta)\n",
        "            g_value = None\n",
        "            if roe is not None and payout_ratio is not None:\n",
        "                g_value = roe * (1 - payout_ratio)\n",
        "\n",
        "            # Total Return (DY + g)\n",
        "            total_return = None\n",
        "            if dy is not None and g_value is not None:\n",
        "                total_return = dy + (g_value * 100)\n",
        "\n",
        "            results[ticker] = {\n",
        "                'DY (%)': dy if dy is not None else None,\n",
        "                'g (%)': g_value * 100 if g_value is not None else None,\n",
        "                'Total Return (%)': total_return if total_return is not None else None,\n",
        "                'Ex-Div': next_div,\n",
        "                'P/E': pe,\n",
        "                'Forward P/E': forward_pe,\n",
        "                'ROE (%)': roe * 100 if roe is not None else None,\n",
        "                'Payout Ratio (%)': payout_ratio * 100 if payout_ratio is not None else None,\n",
        "                'Debt/Equity': debt_equity,\n",
        "                'Price': current_price,\n",
        "                '52W Low': low_52w,\n",
        "                '52W High': high_52w,\n",
        "                'Target Price': target_price,\n",
        "                'Diff ($)': diff_dollar\n",
        "            }\n",
        "        except Exception as e:\n",
        "            results[ticker] = {k: None for k in [\n",
        "                'DY (%)', 'g (%)', 'Total Return (%)', 'Ex-Div',\n",
        "                'P/E', 'Forward P/E', 'ROE (%)', 'Payout Ratio (%)',\n",
        "                'Debt/Equity', 'Price', '52W Low', '52W High',\n",
        "                'Target Price', 'Diff ($)'\n",
        "            ]}\n",
        "            print(f\"Hiba a {ticker} lekérdezésekor: {e}\")\n",
        "    return results\n",
        "\n",
        "if __name__ == '__main__':\n",
        "    ticker_list = [\"GAIN\", \"CSWC\", \"STAG\", \"O\", \"MMM\", \"SO\", \"PFE\", \"VZ\", \"T\", \"CVX\"]\n",
        "    data = get_dividend_and_fundamentals(ticker_list)\n",
        "\n",
        "    header = f\"{'Ticker':<6} | {'DY (%)':>7} | {'g (%)':>7} | {'TotalR (%)':>10} | {'Ex-Div':>12} | {'P/E':>6} | {'Fwd P/E':>7} | {'ROE (%)':>8} | {'Payout (%)':>10} | {'D/E':>6} | {'Price':>8} | {'52W Low':>8} | {'52W High':>8} | {'Target':>8} | {'Diff $':>8}\"\n",
        "    print(header)\n",
        "    print(\"-\" * len(header))\n",
        "\n",
        "    for tk, vals in data.items():\n",
        "        dy_str = f\"{vals['DY (%)']:.2f}%\" if vals['DY (%)'] is not None else \"N/A\"\n",
        "        g_str = f\"{vals['g (%)']:.2f}%\" if vals['g (%)'] is not None else \"N/A\"\n",
        "        total_str = f\"{vals['Total Return (%)']:.2f}%\" if vals['Total Return (%)'] is not None else \"N/A\"\n",
        "        ex_div_str = vals['Ex-Div'] if vals['Ex-Div'] else \"N/A\"\n",
        "        pe_str = f\"{vals['P/E']:.2f}\" if vals['P/E'] is not None else \"N/A\"\n",
        "        fpe_str = f\"{vals['Forward P/E']:.2f}\" if vals['Forward P/E'] is not None else \"N/A\"\n",
        "        roe_str = f\"{vals['ROE (%)']:.2f}%\" if vals['ROE (%)'] is not None else \"N/A\"\n",
        "        payout_str = f\"{vals['Payout Ratio (%)']:.2f}%\" if vals['Payout Ratio (%)'] is not None else \"N/A\"\n",
        "        de_str = f\"{vals['Debt/Equity']:.2f}\" if vals['Debt/Equity'] is not None else \"N/A\"\n",
        "        price_str = f\"${vals['Price']:.2f}\" if vals['Price'] is not None else \"N/A\"\n",
        "        low_str = f\"${vals['52W Low']:.2f}\" if vals['52W Low'] is not None else \"N/A\"\n",
        "        high_str = f\"${vals['52W High']:.2f}\" if vals['52W High'] is not None else \"N/A\"\n",
        "        target_str = f\"${vals['Target Price']:.2f}\" if vals['Target Price'] is not None else \"N/A\"\n",
        "        diff_str = f\"${vals['Diff ($)']:.2f}\" if vals['Diff ($)'] is not None else \"N/A\"\n",
        "\n",
        "        print(f\"{tk:<6} | {dy_str:>7} | {g_str:>7} | {total_str:>10} | {ex_div_str:>12} | {pe_str:>6} | {fpe_str:>7} | {roe_str:>8} | {payout_str:>10} | {de_str:>6} | {price_str:>8} | {low_str:>8} | {high_str:>8} | {target_str:>8} | {diff_str:>8}\")\n"
      ]
    }
  ]
}