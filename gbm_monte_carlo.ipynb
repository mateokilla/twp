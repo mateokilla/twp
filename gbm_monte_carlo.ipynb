{
  "nbformat": 4,
  "nbformat_minor": 0,
  "metadata": {
    "colab": {
      "provenance": [],
      "authorship_tag": "ABX9TyOjJQbBUzCzfNRa7r1t+74W",
      "include_colab_link": true
    },
    "kernelspec": {
      "name": "python3",
      "display_name": "Python 3"
    },
    "language_info": {
      "name": "python"
    }
  },
  "cells": [
    {
      "cell_type": "markdown",
      "metadata": {
        "id": "view-in-github",
        "colab_type": "text"
      },
      "source": [
        "<a href=\"https://colab.research.google.com/github/mateokilla/twp/blob/main/gbm_monte_carlo.ipynb\" target=\"_parent\"><img src=\"https://colab.research.google.com/assets/colab-badge.svg\" alt=\"Open In Colab\"/></a>"
      ]
    },
    {
      "cell_type": "code",
      "execution_count": null,
      "metadata": {
        "id": "dCIKyaJ1Lu7b"
      },
      "outputs": [],
      "source": [
        "!pip install yfinance tabulate --quiet\n",
        "\n",
        "import numpy as np\n",
        "import yfinance as yf\n",
        "from tabulate import tabulate\n",
        "\n",
        "# ---- Paraméterek ----\n",
        "ticker = \"VZ\"\n",
        "data = yf.Ticker(ticker).history(period=\"1y\")\n",
        "S0 = data['Close'].iloc[-1]\n",
        "\n",
        "# ---- Loghozamok számítása ----\n",
        "log_returns = np.log(data['Close'] / data['Close'].shift(1)).dropna()\n",
        "\n",
        "# μ és σ becslése évesítve\n",
        "mu = log_returns.mean() * 252\n",
        "sigma = log_returns.std() * np.sqrt(252)\n",
        "\n",
        "# ---- Monte Carlo szimuláció ----\n",
        "T = 1         # év\n",
        "steps = 252\n",
        "n_sims = 100000\n",
        "dt = T / steps\n",
        "\n",
        "np.random.seed(42)\n",
        "final_prices = []\n",
        "\n",
        "for sim in range(n_sims):\n",
        "    price = S0\n",
        "    for t in range(steps):\n",
        "        z = np.random.normal()\n",
        "        price *= np.exp((mu - 0.5*sigma**2)*dt + sigma*np.sqrt(dt)*z)\n",
        "    final_prices.append(price)\n",
        "\n",
        "final_prices = np.array(final_prices)\n",
        "\n",
        "# ---- Percentilisek ----\n",
        "p5 = np.percentile(final_prices, 5)\n",
        "p25 = np.percentile(final_prices, 25)\n",
        "p50 = np.percentile(final_prices, 50)\n",
        "p75 = np.percentile(final_prices, 75)\n",
        "p95 = np.percentile(final_prices, 95)\n",
        "\n",
        "# ---- Szenáriók táblázata ----\n",
        "scenarios = [\n",
        "    [\"Bear (nagyon rossz, 5%)\", f\"{p5:.2f} USD\", \"5%\"],\n",
        "    [\"Bearish (rossz, 25%)\", f\"{p25:.2f} USD\", \"25%\"],\n",
        "    [\"Base (közép, 50%)\", f\"{p50:.2f} USD\", \"50%\"],\n",
        "    [\"Bullish (jó, 75%)\", f\"{p75:.2f} USD\", \"75%\"],\n",
        "    [\"Bull (nagyon jó, 95%)\", f\"{p95:.2f} USD\", \"95%\"]\n",
        "]\n",
        "\n",
        "print(f\"\\n--- {ticker} 1 éves GBM előrejelzés ---\")\n",
        "print(f\"Aktuális ár: {S0:.2f} USD\")\n",
        "print(tabulate(scenarios, headers=[\"Szenárió\", \"Ár év végén\", \"Valószínűség\"]))\n"
      ]
    }
  ]
}